{
 "cells": [
  {
   "cell_type": "code",
   "execution_count": 1,
   "id": "84c0a5dd",
   "metadata": {},
   "outputs": [],
   "source": [
    "import pandas as pd\n",
    "import numpy as np\n",
    "from sklearn.ensemble import RandomForestClassifier\n",
    "from sklearn.model_selection import train_test_split\n",
    "import warnings\n",
    "from sklearn.exceptions import ConvergenceWarning\n",
    "from sklearn.decomposition import PCA"
   ]
  },
  {
   "cell_type": "code",
   "execution_count": 3,
   "id": "55770473",
   "metadata": {},
   "outputs": [
    {
     "data": {
      "text/html": [
       "<style>#sk-container-id-1 {color: black;background-color: white;}#sk-container-id-1 pre{padding: 0;}#sk-container-id-1 div.sk-toggleable {background-color: white;}#sk-container-id-1 label.sk-toggleable__label {cursor: pointer;display: block;width: 100%;margin-bottom: 0;padding: 0.3em;box-sizing: border-box;text-align: center;}#sk-container-id-1 label.sk-toggleable__label-arrow:before {content: \"▸\";float: left;margin-right: 0.25em;color: #696969;}#sk-container-id-1 label.sk-toggleable__label-arrow:hover:before {color: black;}#sk-container-id-1 div.sk-estimator:hover label.sk-toggleable__label-arrow:before {color: black;}#sk-container-id-1 div.sk-toggleable__content {max-height: 0;max-width: 0;overflow: hidden;text-align: left;background-color: #f0f8ff;}#sk-container-id-1 div.sk-toggleable__content pre {margin: 0.2em;color: black;border-radius: 0.25em;background-color: #f0f8ff;}#sk-container-id-1 input.sk-toggleable__control:checked~div.sk-toggleable__content {max-height: 200px;max-width: 100%;overflow: auto;}#sk-container-id-1 input.sk-toggleable__control:checked~label.sk-toggleable__label-arrow:before {content: \"▾\";}#sk-container-id-1 div.sk-estimator input.sk-toggleable__control:checked~label.sk-toggleable__label {background-color: #d4ebff;}#sk-container-id-1 div.sk-label input.sk-toggleable__control:checked~label.sk-toggleable__label {background-color: #d4ebff;}#sk-container-id-1 input.sk-hidden--visually {border: 0;clip: rect(1px 1px 1px 1px);clip: rect(1px, 1px, 1px, 1px);height: 1px;margin: -1px;overflow: hidden;padding: 0;position: absolute;width: 1px;}#sk-container-id-1 div.sk-estimator {font-family: monospace;background-color: #f0f8ff;border: 1px dotted black;border-radius: 0.25em;box-sizing: border-box;margin-bottom: 0.5em;}#sk-container-id-1 div.sk-estimator:hover {background-color: #d4ebff;}#sk-container-id-1 div.sk-parallel-item::after {content: \"\";width: 100%;border-bottom: 1px solid gray;flex-grow: 1;}#sk-container-id-1 div.sk-label:hover label.sk-toggleable__label {background-color: #d4ebff;}#sk-container-id-1 div.sk-serial::before {content: \"\";position: absolute;border-left: 1px solid gray;box-sizing: border-box;top: 0;bottom: 0;left: 50%;z-index: 0;}#sk-container-id-1 div.sk-serial {display: flex;flex-direction: column;align-items: center;background-color: white;padding-right: 0.2em;padding-left: 0.2em;position: relative;}#sk-container-id-1 div.sk-item {position: relative;z-index: 1;}#sk-container-id-1 div.sk-parallel {display: flex;align-items: stretch;justify-content: center;background-color: white;position: relative;}#sk-container-id-1 div.sk-item::before, #sk-container-id-1 div.sk-parallel-item::before {content: \"\";position: absolute;border-left: 1px solid gray;box-sizing: border-box;top: 0;bottom: 0;left: 50%;z-index: -1;}#sk-container-id-1 div.sk-parallel-item {display: flex;flex-direction: column;z-index: 1;position: relative;background-color: white;}#sk-container-id-1 div.sk-parallel-item:first-child::after {align-self: flex-end;width: 50%;}#sk-container-id-1 div.sk-parallel-item:last-child::after {align-self: flex-start;width: 50%;}#sk-container-id-1 div.sk-parallel-item:only-child::after {width: 0;}#sk-container-id-1 div.sk-dashed-wrapped {border: 1px dashed gray;margin: 0 0.4em 0.5em 0.4em;box-sizing: border-box;padding-bottom: 0.4em;background-color: white;}#sk-container-id-1 div.sk-label label {font-family: monospace;font-weight: bold;display: inline-block;line-height: 1.2em;}#sk-container-id-1 div.sk-label-container {text-align: center;}#sk-container-id-1 div.sk-container {/* jupyter's `normalize.less` sets `[hidden] { display: none; }` but bootstrap.min.css set `[hidden] { display: none !important; }` so we also need the `!important` here to be able to override the default hidden behavior on the sphinx rendered scikit-learn.org. See: https://github.com/scikit-learn/scikit-learn/issues/21755 */display: inline-block !important;position: relative;}#sk-container-id-1 div.sk-text-repr-fallback {display: none;}</style><div id=\"sk-container-id-1\" class=\"sk-top-container\"><div class=\"sk-text-repr-fallback\"><pre>RandomForestClassifier(n_estimators=290, random_state=0)</pre><b>In a Jupyter environment, please rerun this cell to show the HTML representation or trust the notebook. <br />On GitHub, the HTML representation is unable to render, please try loading this page with nbviewer.org.</b></div><div class=\"sk-container\" hidden><div class=\"sk-item\"><div class=\"sk-estimator sk-toggleable\"><input class=\"sk-toggleable__control sk-hidden--visually\" id=\"sk-estimator-id-1\" type=\"checkbox\" checked><label for=\"sk-estimator-id-1\" class=\"sk-toggleable__label sk-toggleable__label-arrow\">RandomForestClassifier</label><div class=\"sk-toggleable__content\"><pre>RandomForestClassifier(n_estimators=290, random_state=0)</pre></div></div></div></div></div>"
      ],
      "text/plain": [
       "RandomForestClassifier(n_estimators=290, random_state=0)"
      ]
     },
     "execution_count": 3,
     "metadata": {},
     "output_type": "execute_result"
    }
   ],
   "source": [
    "xtrain = pd.read_csv('data/v7_xtrain.csv',header=None)\n",
    "ytrain = pd.read_csv('data/v7_ytrain.csv',header=None)\n",
    "\n",
    "xtrain = xtrain.to_numpy()\n",
    "ytrain = ytrain.to_numpy()\n",
    "\n",
    "pca = PCA(n_components=213, random_state=0)\n",
    "pca.fit(xtrain)\n",
    "pca_xtrain = pca.transform(xtrain)\n",
    "\n",
    "rfc_clf = RandomForestClassifier(n_estimators=290,random_state=0)\n",
    "rfc_clf.fit(pca_xtrain,ytrain.reshape(-1))\n"
   ]
  },
  {
   "cell_type": "code",
   "execution_count": 5,
   "id": "7a7a710f",
   "metadata": {},
   "outputs": [],
   "source": [
    "train = pd.read_csv('data/data_v7.csv').drop(columns=['outcome'])\n",
    "train_cols = train.columns"
   ]
  },
  {
   "cell_type": "code",
   "execution_count": 6,
   "id": "53eb13ca",
   "metadata": {},
   "outputs": [
    {
     "data": {
      "text/html": [
       "<div>\n",
       "<style scoped>\n",
       "    .dataframe tbody tr th:only-of-type {\n",
       "        vertical-align: middle;\n",
       "    }\n",
       "\n",
       "    .dataframe tbody tr th {\n",
       "        vertical-align: top;\n",
       "    }\n",
       "\n",
       "    .dataframe thead th {\n",
       "        text-align: right;\n",
       "    }\n",
       "</style>\n",
       "<table border=\"1\" class=\"dataframe\">\n",
       "  <thead>\n",
       "    <tr style=\"text-align: right;\">\n",
       "      <th></th>\n",
       "      <th>Unnamed: 0</th>\n",
       "      <th>Year</th>\n",
       "      <th>t1_general_traditional_WIN%</th>\n",
       "      <th>t1_general_traditional_PTS</th>\n",
       "      <th>t1_general_traditional_FGM</th>\n",
       "      <th>t1_general_traditional_FG%</th>\n",
       "      <th>t1_general_traditional_3PM</th>\n",
       "      <th>t1_general_traditional_3P%</th>\n",
       "      <th>t1_general_traditional_FTM</th>\n",
       "      <th>t1_general_traditional_FT%</th>\n",
       "      <th>...</th>\n",
       "      <th>t2_TEAM</th>\n",
       "      <th>t2_seed</th>\n",
       "      <th>t1_general_defense_OPP_PTS_OFF_TOV</th>\n",
       "      <th>t1_general_defense_OPP_PTS_2ND_CHANCE</th>\n",
       "      <th>t1_general_defense_OPP_PTS_FB</th>\n",
       "      <th>t1_general_defense_OPP_PITP</th>\n",
       "      <th>t2_general_defense_OPP_PTS_OFF_TOV</th>\n",
       "      <th>t2_general_defense_OPP_PTS_2ND_CHANCE</th>\n",
       "      <th>t2_general_defense_OPP_PTS_FB</th>\n",
       "      <th>t2_general_defense_OPP_PITP</th>\n",
       "    </tr>\n",
       "  </thead>\n",
       "  <tbody>\n",
       "    <tr>\n",
       "      <th>0</th>\n",
       "      <td>0</td>\n",
       "      <td>2023</td>\n",
       "      <td>53.7</td>\n",
       "      <td>118.9</td>\n",
       "      <td>43.1</td>\n",
       "      <td>47.9</td>\n",
       "      <td>16.6</td>\n",
       "      <td>38.5</td>\n",
       "      <td>16.0</td>\n",
       "      <td>79.4</td>\n",
       "      <td>...</td>\n",
       "      <td>Los Angeles Lakers</td>\n",
       "      <td>7</td>\n",
       "      <td>19.4</td>\n",
       "      <td>13.3</td>\n",
       "      <td>14.1</td>\n",
       "      <td>49.8</td>\n",
       "      <td>17.0</td>\n",
       "      <td>13.9</td>\n",
       "      <td>15.4</td>\n",
       "      <td>52.8</td>\n",
       "    </tr>\n",
       "    <tr>\n",
       "      <th>1</th>\n",
       "      <td>1</td>\n",
       "      <td>2023</td>\n",
       "      <td>64.6</td>\n",
       "      <td>115.8</td>\n",
       "      <td>43.6</td>\n",
       "      <td>50.4</td>\n",
       "      <td>11.8</td>\n",
       "      <td>37.9</td>\n",
       "      <td>16.8</td>\n",
       "      <td>75.1</td>\n",
       "      <td>...</td>\n",
       "      <td>Phoenix Suns</td>\n",
       "      <td>4</td>\n",
       "      <td>17.4</td>\n",
       "      <td>13.4</td>\n",
       "      <td>13.7</td>\n",
       "      <td>52.5</td>\n",
       "      <td>16.1</td>\n",
       "      <td>13.9</td>\n",
       "      <td>13.2</td>\n",
       "      <td>48.6</td>\n",
       "    </tr>\n",
       "    <tr>\n",
       "      <th>2</th>\n",
       "      <td>2</td>\n",
       "      <td>2023</td>\n",
       "      <td>53.7</td>\n",
       "      <td>109.5</td>\n",
       "      <td>39.2</td>\n",
       "      <td>46.0</td>\n",
       "      <td>12.0</td>\n",
       "      <td>34.4</td>\n",
       "      <td>19.1</td>\n",
       "      <td>83.1</td>\n",
       "      <td>...</td>\n",
       "      <td>New York Knicks</td>\n",
       "      <td>5</td>\n",
       "      <td>15.9</td>\n",
       "      <td>12.0</td>\n",
       "      <td>12.5</td>\n",
       "      <td>46.2</td>\n",
       "      <td>15.3</td>\n",
       "      <td>13.3</td>\n",
       "      <td>12.7</td>\n",
       "      <td>45.9</td>\n",
       "    </tr>\n",
       "    <tr>\n",
       "      <th>3</th>\n",
       "      <td>3</td>\n",
       "      <td>2023</td>\n",
       "      <td>69.5</td>\n",
       "      <td>117.9</td>\n",
       "      <td>42.2</td>\n",
       "      <td>47.5</td>\n",
       "      <td>16.0</td>\n",
       "      <td>37.7</td>\n",
       "      <td>17.5</td>\n",
       "      <td>81.2</td>\n",
       "      <td>...</td>\n",
       "      <td>Philadelphia 76ers</td>\n",
       "      <td>3</td>\n",
       "      <td>15.4</td>\n",
       "      <td>12.7</td>\n",
       "      <td>13.2</td>\n",
       "      <td>48.9</td>\n",
       "      <td>16.5</td>\n",
       "      <td>12.7</td>\n",
       "      <td>15.5</td>\n",
       "      <td>48.1</td>\n",
       "    </tr>\n",
       "  </tbody>\n",
       "</table>\n",
       "<p>4 rows × 222 columns</p>\n",
       "</div>"
      ],
      "text/plain": [
       "   Unnamed: 0  Year  t1_general_traditional_WIN%  t1_general_traditional_PTS  \\\n",
       "0           0  2023                         53.7                       118.9   \n",
       "1           1  2023                         64.6                       115.8   \n",
       "2           2  2023                         53.7                       109.5   \n",
       "3           3  2023                         69.5                       117.9   \n",
       "\n",
       "   t1_general_traditional_FGM  t1_general_traditional_FG%  \\\n",
       "0                        43.1                        47.9   \n",
       "1                        43.6                        50.4   \n",
       "2                        39.2                        46.0   \n",
       "3                        42.2                        47.5   \n",
       "\n",
       "   t1_general_traditional_3PM  t1_general_traditional_3P%  \\\n",
       "0                        16.6                        38.5   \n",
       "1                        11.8                        37.9   \n",
       "2                        12.0                        34.4   \n",
       "3                        16.0                        37.7   \n",
       "\n",
       "   t1_general_traditional_FTM  t1_general_traditional_FT%  ...  \\\n",
       "0                        16.0                        79.4  ...   \n",
       "1                        16.8                        75.1  ...   \n",
       "2                        19.1                        83.1  ...   \n",
       "3                        17.5                        81.2  ...   \n",
       "\n",
       "              t2_TEAM  t2_seed  t1_general_defense_OPP_PTS_OFF_TOV  \\\n",
       "0  Los Angeles Lakers        7                                19.4   \n",
       "1        Phoenix Suns        4                                17.4   \n",
       "2     New York Knicks        5                                15.9   \n",
       "3  Philadelphia 76ers        3                                15.4   \n",
       "\n",
       "   t1_general_defense_OPP_PTS_2ND_CHANCE  t1_general_defense_OPP_PTS_FB  \\\n",
       "0                                   13.3                           14.1   \n",
       "1                                   13.4                           13.7   \n",
       "2                                   12.0                           12.5   \n",
       "3                                   12.7                           13.2   \n",
       "\n",
       "   t1_general_defense_OPP_PITP  t2_general_defense_OPP_PTS_OFF_TOV  \\\n",
       "0                         49.8                                17.0   \n",
       "1                         52.5                                16.1   \n",
       "2                         46.2                                15.3   \n",
       "3                         48.9                                16.5   \n",
       "\n",
       "   t2_general_defense_OPP_PTS_2ND_CHANCE  t2_general_defense_OPP_PTS_FB  \\\n",
       "0                                   13.9                           15.4   \n",
       "1                                   13.9                           13.2   \n",
       "2                                   13.3                           12.7   \n",
       "3                                   12.7                           15.5   \n",
       "\n",
       "   t2_general_defense_OPP_PITP  \n",
       "0                         52.8  \n",
       "1                         48.6  \n",
       "2                         45.9  \n",
       "3                         48.1  \n",
       "\n",
       "[4 rows x 222 columns]"
      ]
     },
     "execution_count": 6,
     "metadata": {},
     "output_type": "execute_result"
    }
   ],
   "source": [
    "test = pd.read_csv('data/data_v5_rd2_22_23.csv')\n",
    "test.head()"
   ]
  },
  {
   "cell_type": "code",
   "execution_count": 7,
   "id": "67c97dc4",
   "metadata": {},
   "outputs": [],
   "source": [
    "t1 = test['t1_TEAM']\n",
    "t2 = test['t2_TEAM']\n",
    "test.drop(columns=['Unnamed: 0', 'Year','t1_TEAM','t2_TEAM'],inplace=True)"
   ]
  },
  {
   "cell_type": "code",
   "execution_count": 9,
   "id": "354f27ab",
   "metadata": {},
   "outputs": [
    {
     "data": {
      "text/plain": [
       "Index(['t1_general_traditional_WIN%', 't1_general_traditional_PTS',\n",
       "       't1_general_traditional_FGM', 't1_general_traditional_FG%',\n",
       "       't1_general_traditional_3PM', 't1_general_traditional_3P%',\n",
       "       't1_general_traditional_FTM', 't1_general_traditional_FT%',\n",
       "       't1_general_traditional_OREB', 't1_general_traditional_DREB',\n",
       "       ...\n",
       "       't2_clutch-opponent_Opponent's Rebounds',\n",
       "       't2_clutch-opponent_Opponent's Assists',\n",
       "       't2_clutch-opponent_Opponent's Turnovers',\n",
       "       't2_clutch-opponent_Opponent's Steals',\n",
       "       't2_clutch-opponent_Opponent's Blocks',\n",
       "       't2_clutch-opponent_Opponent's Blocked Field Goal Attempts',\n",
       "       't2_clutch-opponent_Opponent's Personal Fouls',\n",
       "       't2_clutch-opponent_Opponent's Personal Fouls Drawn',\n",
       "       't2_clutch-opponent_Opponent's Points', 't2_seed'],\n",
       "      dtype='object', length=218)"
      ]
     },
     "execution_count": 9,
     "metadata": {},
     "output_type": "execute_result"
    }
   ],
   "source": [
    "train.columns"
   ]
  },
  {
   "cell_type": "code",
   "execution_count": 11,
   "id": "c54af751",
   "metadata": {},
   "outputs": [
    {
     "data": {
      "text/plain": [
       "Index(['t1_general_traditional_WIN%', 't1_general_traditional_PTS',\n",
       "       't1_general_traditional_FGM', 't1_general_traditional_FG%',\n",
       "       't1_general_traditional_3PM', 't1_general_traditional_3P%',\n",
       "       't1_general_traditional_FTM', 't1_general_traditional_FT%',\n",
       "       't1_general_traditional_OREB', 't1_general_traditional_DREB',\n",
       "       ...\n",
       "       't2_clutch-opponent_Opponent's Points', 't2_seed',\n",
       "       't1_general_defense_OPP_PTS_OFF_TOV',\n",
       "       't1_general_defense_OPP_PTS_2ND_CHANCE',\n",
       "       't1_general_defense_OPP_PTS_FB', 't1_general_defense_OPP_PITP',\n",
       "       't2_general_defense_OPP_PTS_OFF_TOV',\n",
       "       't2_general_defense_OPP_PTS_2ND_CHANCE',\n",
       "       't2_general_defense_OPP_PTS_FB', 't2_general_defense_OPP_PITP'],\n",
       "      dtype='object', length=218)"
      ]
     },
     "execution_count": 11,
     "metadata": {},
     "output_type": "execute_result"
    }
   ],
   "source": [
    "test.columns"
   ]
  },
  {
   "cell_type": "code",
   "execution_count": 12,
   "id": "a08c6500",
   "metadata": {},
   "outputs": [],
   "source": [
    "test = test[list(train_cols)]"
   ]
  },
  {
   "cell_type": "code",
   "execution_count": 13,
   "id": "5fa72d21",
   "metadata": {},
   "outputs": [
    {
     "data": {
      "text/plain": [
       "True"
      ]
     },
     "execution_count": 13,
     "metadata": {},
     "output_type": "execute_result"
    }
   ],
   "source": [
    "list(test.columns) == list(train.columns)"
   ]
  },
  {
   "cell_type": "code",
   "execution_count": 14,
   "id": "708141a4",
   "metadata": {},
   "outputs": [],
   "source": [
    "pca_xtest = pca.transform(test.to_numpy())"
   ]
  },
  {
   "cell_type": "code",
   "execution_count": 16,
   "id": "e7c60973",
   "metadata": {},
   "outputs": [
    {
     "name": "stdout",
     "output_type": "stream",
     "text": [
      "Golden State Warriors beats Los Angeles Lakers\n",
      "Denver Nuggets beats Phoenix Suns\n",
      "Miami Heat beats New York Knicks\n",
      "Boston Celtics beats Philadelphia 76ers\n"
     ]
    }
   ],
   "source": [
    "preds = rfc_clf.predict(pca_xtest).reshape(-1)\n",
    "for i in range(t1.shape[0]):\n",
    "    if preds[i] == 1:\n",
    "        print(t1.iloc[i], t2.iloc[i], sep=' beats ')\n",
    "    else:\n",
    "        print(t2.iloc[i], t1.iloc[i], sep=' beats ')"
   ]
  }
 ],
 "metadata": {
  "kernelspec": {
   "display_name": "Python 3 (ipykernel)",
   "language": "python",
   "name": "python3"
  },
  "language_info": {
   "codemirror_mode": {
    "name": "ipython",
    "version": 3
   },
   "file_extension": ".py",
   "mimetype": "text/x-python",
   "name": "python",
   "nbconvert_exporter": "python",
   "pygments_lexer": "ipython3",
   "version": "3.10.9"
  }
 },
 "nbformat": 4,
 "nbformat_minor": 5
}
